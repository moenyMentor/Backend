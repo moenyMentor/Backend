{
 "cells": [
  {
   "cell_type": "code",
   "execution_count": 1,
   "metadata": {},
   "outputs": [],
   "source": [
    "import os\n",
    "import re   # 정규표현식 활용\n",
    "from dotenv import load_dotenv\n",
    "import pandas as pd   # 데이터 처리\n",
    "from langchain_community.document_loaders import TextLoader   # txt 파일 load\n",
    "from langchain_community.document_loaders.csv_loader import CSVLoader # csv 파일 load\n",
    "from langchain_text_splitters import RecursiveCharacterTextSplitter\n",
    "from langchain.vectorstores import Chroma\n",
    "from langchain_core.prompts import ChatPromptTemplate     # ChatPrompt template\n",
    "from langchain_core.prompts import PromptTemplate         # Rag-Prompt template \n",
    "from langchain_huggingface import HuggingFaceEmbeddings\n",
    "from langchain.chains import RetrievalQA\n",
    "from langchain_core.runnables import RunnableParallel, RunnablePassthrough  # retriever data 병렬 전달\n",
    "from langchain_core.output_parsers import StrOutputParser # chain output을 str로 받기 \n",
    "\n",
    "from ibm_watsonx_ai.foundation_models.utils.enums import ModelTypes\n",
    "from ibm_watsonx_ai.metanames import GenTextParamsMetaNames as GenParams\n",
    "from ibm_watsonx_ai.foundation_models.utils.enums import DecodingMethods\n",
    "from langchain.llms import WatsonxLLM"
   ]
  },
  {
   "cell_type": "code",
   "execution_count": 2,
   "metadata": {},
   "outputs": [],
   "source": [
    "from langchain.schema import Document\n",
    "\n",
    "def load_text_as_documents(file_path):\n",
    "    file_path = file_path\n",
    "    documents = []\n",
    "\n",
    "    with open(file_path, 'r', encoding='utf-8') as file:\n",
    "        for line_number, line in enumerate(file, 1):\n",
    "            line = line.strip()  # 앞뒤 공백 제거\n",
    "            if line:  # 빈 줄 무시\n",
    "                doc = Document(\n",
    "                    page_content=line,\n",
    "                    metadata={\"source\": file_path, \"line_number\": line_number}\n",
    "                )\n",
    "                documents.append(doc)\n",
    "\n",
    "    return documents"
   ]
  },
  {
   "cell_type": "code",
   "execution_count": 4,
   "metadata": {},
   "outputs": [
    {
     "name": "stdout",
     "output_type": "stream",
     "text": [
      "총 61개의 문서로 로드되었습니다.\n",
      "문서 1:\n",
      "내용: kor_co_nm: 우리은행 | fin_prdt_nm: 우리SUPER주거래적금 | join_way: 영업점,인터넷,스마트폰,전화(텔레뱅킹) | mtrt_int: 만기 후 - 1개월이내 : 만기시점약정이율×50% - 1개월초과 6개월이내: 만기시점약정이율×30% - 6개월초과 : 만기시점약정이율×20%  ※ 만기시점 약정이율 : 일반정기적금 금리 | spcl_cnd: 1. 아래 각 항(가, 나)의 조건을 충족하는 경우 합산 최대 연 1.9%p 우대 가. 우리은행을 처음 거래하시는 고객 : 연 1.0%p 나. 거래실적 인정기간 동안 아래 거래실적을 계약기간별 필수기간(1년 : 6개월, 2년 : 12개월, 3년 : 18개월)이상 충족하는 경우 최대 연 0.9%p | join_deny: 1 | join_member: 실명의 개인 | max_limit: None\n",
      "메타데이터: {'source': './data/saving_list.txt', 'line_number': 1}\n",
      "--------------------------------------------------\n",
      "문서 2:\n",
      "내용: kor_co_nm: 우리은행 | fin_prdt_nm: WON적금 | join_way: 스마트폰,전화(텔레뱅킹) | mtrt_int: 만기 후 - 1개월이내 : 만기시점약정이율×50% - 1개월초과 6개월이내: 만기시점약정이율×30% - 6개월초과 : 만기시점약정이율×20%  ※ 만기시점 약정이율 : 일반정기적금 금리 | spcl_cnd: 1. 아래 각 항(가, 나)의 조건을 충족하는 경우 합산 최대 연 0.2%p 우대 가. 이 적금을 우리꿈통장, WON통장에 연결하여 가입하는 경우 : 0.1%p 나. 우리 오픈뱅킹 서비스에 타행계좌가 등록되어 있는 경우 : 연 0.1%p | join_deny: 1 | join_member: 실명의 개인 | max_limit: None\n",
      "메타데이터: {'source': './data/saving_list.txt', 'line_number': 2}\n",
      "--------------------------------------------------\n",
      "문서 3:\n",
      "내용: kor_co_nm: 한국스탠다드차타드은행 | fin_prdt_nm: 퍼스트가계적금 | join_way: 영업점,인터넷,스마트폰 | mtrt_int: 만기 후 1개월: 약정이율의 50% 만기 후 1개월 초과 1년 이내: 약정이율의 30% 만기 후 1년 초과: 약정이율의 10% | spcl_cnd: 없음 | join_deny: 1 | join_member: 개인(개인사업자 포함) | max_limit: 10000000\n",
      "메타데이터: {'source': './data/saving_list.txt', 'line_number': 3}\n",
      "--------------------------------------------------\n",
      "문서 4:\n",
      "내용: kor_co_nm: 아이엠뱅크 | fin_prdt_nm: 내손안에 적금 | join_way: 스마트폰 | mtrt_int: 만기 후 1개월 미만 경과: 약정이자율 x 50% 만기 후 3개월 미만 경과: 약정이자율 x 25% 만기 후 3개월 이상 경과: 약정이자율 x 10% | spcl_cnd: *최고우대금리 : 연0.55%p -당행 인터넷/모바일뱅킹을 통하여 최초로 적립식예금 가입 시 : 연0.20%p -상품 가입 전 최근 3개월 이내 당행 인터넷/모바일뱅킹을 통한 이체거래 3회 이상 : 연0.10%p -상품 가입 전 수수료우대 통장 보유 고객 : 연0.20%p * 해당 상품을 모바일뱅킹을 통해 가입 : 연0.05%p | join_deny: 1 | join_member: 실명의 개인 | max_limit: 1000000\n",
      "메타데이터: {'source': './data/saving_list.txt', 'line_number': 4}\n",
      "--------------------------------------------------\n",
      "문서 5:\n",
      "내용: kor_co_nm: 아이엠뱅크 | fin_prdt_nm: 영플러스적금 | join_way: 영업점,인터넷,스마트폰 | mtrt_int: 만기 후 1개월 미만 경과: 약정이자율 x 50% 만기 후 3개월 미만 경과: 약정이자율 x 25% 만기 후 3개월 이상 경과: 약정이자율 x 10% | spcl_cnd: *최고우대금리 : 연0.55%p -상품 가입 전 영플러스통장 보유 또는 재예치일 기준 영플러스통장 전월 평잔 10만원 이상 : 연0.10%p -예금기간 중 입금횟수 10회 이상 : 연0.10%p -입학 및 졸업 축하금리 : 연0.30%p * 해당 상품을 인터넷/모바일뱅킹을 통해 가입 : 연0.05%p | join_deny: 3 | join_member: 만 29세 이하 실명의 개인 | max_limit: 500000\n",
      "메타데이터: {'source': './data/saving_list.txt', 'line_number': 5}\n",
      "--------------------------------------------------\n",
      "총 39개의 문서로 로드되었습니다.\n",
      "문서 1:\n",
      "내용: kor_co_nm: 우리은행 | fin_prdt_nm: WON플러스예금 | join_way: 인터넷,스마트폰,전화(텔레뱅킹) | mtrt_int: 만기 후 - 1개월이내 : 만기시점약정이율×50% - 1개월초과 6개월이내: 만기시점약정이율×30% - 6개월초과 : 만기시점약정이율×20%  ※ 만기시점 약정이율 : 일반정기예금 금리 | spcl_cnd: 해당사항 없음 | join_deny: 1 | join_member: 실명의 개인 | max_limit: None\n",
      "메타데이터: {'source': './data/deposit_list.txt', 'line_number': 1}\n",
      "--------------------------------------------------\n",
      "문서 2:\n",
      "내용: kor_co_nm: 한국스탠다드차타드은행 | fin_prdt_nm: e-그린세이브예금 | join_way: 인터넷,스마트폰 | mtrt_int: 만기 후 1개월: 약정이율의 50% 만기 후 1개월 초과 1년 이내: 약정이율의 30% 만기 후 1년 초과: 약정이율의 10% | spcl_cnd: 1.SC제일은행 최초 거래 신규고객에 대하여 우대 이율을 제공함 (보너스이율0.2%)                     2.SC제일마이백통장에서 출금하여 이 예금을 신규하는경우에 보너스이율을 제공함 (가입기간:1년제/ 보너스이율:0.1% / 만기해약하는 경우에 한해 보너스이율을 적용함) | join_deny: 1 | join_member: 개인(개인사업자 포함) | max_limit: 1000000000\n",
      "메타데이터: {'source': './data/deposit_list.txt', 'line_number': 2}\n",
      "--------------------------------------------------\n",
      "문서 3:\n",
      "내용: kor_co_nm: 아이엠뱅크 | fin_prdt_nm: iM주거래우대예금(첫만남고객형) | join_way: 영업점,인터넷,스마트폰 | mtrt_int: 만기 후 1개월 미만 경과 : 약정이자율 x 50% 만기 후 3개월 미만 경과 : 약정이자율 x 25%  만기 후 3개월 이상 경과 : 약정이자율 x 10% | spcl_cnd: *최고우대금리 : 연0.65%p               -목돈굴리기예금 최초 가입시 : 연0.20%p -상품 가입 전 최근 1개월 이내 신용(체크)카드 신규 발급 : 연0.20%p -상품 가입 전 최근 1개월 이내 인터넷.폰.모바일앱뱅킹 가입 : 연0.20%p *해당 상품을 인터넷/모바일뱅킹을 통해 가입 : 연0.05%p | join_deny: 1 | join_member: 실명의 개인 | max_limit: None\n",
      "메타데이터: {'source': './data/deposit_list.txt', 'line_number': 3}\n",
      "--------------------------------------------------\n",
      "문서 4:\n",
      "내용: kor_co_nm: 아이엠뱅크 | fin_prdt_nm: iM행복파트너예금(일반형) | join_way: 영업점,인터넷,스마트폰 | mtrt_int: 만기 후 1개월 미만 경과 : 약정이자율 x 50% 만기 후 3개월 미만 경과 : 약정이자율 x 25%  만기 후 3개월 이상 경과 : 약정이자율 x 10% | spcl_cnd: *최고우대금리 : 연0.45%p -지난달 당행 통장으로 연금 입금 실적 보유 : 연0.10%p -상품 가입 전 당행 신용(체크)카드 보유 : 연0.10%p -지난 3개월 예금 평잔 30만원 이상 : 연0.10%p -iM행복파트너적금 동시 가입 및 만기 보유 : 연0.10%p *해당 상품을 인터넷/모바일뱅킹을 통해 가입 : 연0.05%p | join_deny: 3 | join_member: 만50세 이상 실명의 개인 | max_limit: None\n",
      "메타데이터: {'source': './data/deposit_list.txt', 'line_number': 4}\n",
      "--------------------------------------------------\n",
      "문서 5:\n",
      "내용: kor_co_nm: 아이엠뱅크 | fin_prdt_nm: iM함께예금 | join_way: 영업점,인터넷,스마트폰 | mtrt_int: 만기 후 1개월 미만 경과 : 약정이자율 x 50% 만기 후 3개월 미만 경과 : 약정이자율 x 25%  만기 후 3개월 이상 경과 : 약정이자율 x 10% | spcl_cnd: *최고우대금리 : 연0.45%p -전월 총 수신 평잔실적 또는 상품 가입 전 첫만남플러스 통장 보유시  -당행 주택청약상품보유  -신규일 \"iM함께적금\" 동시 가입 및 만기 보유  -당행 오픈뱅킹서비스에 다른 은행 계좌 등록시  각 연0.10%p                        *해당 상품을 인터넷/모바일뱅킹을 통해 가입 시 : 연0.05%p | join_deny: 1 | join_member: 실명의 개인 및 개인사업자 | max_limit: None\n",
      "메타데이터: {'source': './data/deposit_list.txt', 'line_number': 5}\n",
      "--------------------------------------------------\n",
      "총 100개의 문서로 로드되었습니다.\n",
      "문서 1:\n",
      "내용: 회사:kb증권, 이름:kb CMA 상품1, 운용방식:RP형, 수익률:2.5%, 이체 수수료 혜택:무료, CD/ATM기 수수료 혜택:무료, 이체 수수료 혜택 조건:CMA 주거래계좌 이용 시 온라인 이체 수수료 무료 혜택, CD/ATM기 수수료 혜택:CMA 주거래계좌 이용 시 전금융기관 CD, ATM기 이체출금 수수료 무료 혜택\n",
      "메타데이터: {'source': './data/CMA_list.txt', 'line_number': 1}\n",
      "--------------------------------------------------\n",
      "문서 2:\n",
      "내용: 회사:신한증권, 이름:신한 CMA 상품2, 운용방식:발행어음형, 수익률:2.3%, 이체 수수료 혜택:무료, CD/ATM기 수수료 혜택:무료, 이체 수수료 혜택 조건:당사 IC 체크카드 또는 신용카드 결제사용 고객은 전월 20만원 이상 사용시 온라인 이체수수료가 무료 적용됩니다., CD/ATM기 수수료 혜택:CMA 주거래계좌 이용 시 전금융기관 CD, ATM기 이체출금 수수료 무료 혜택\n",
      "메타데이터: {'source': './data/CMA_list.txt', 'line_number': 2}\n",
      "--------------------------------------------------\n",
      "문서 3:\n",
      "내용: 회사:삼성증권, 이름:삼성 CMA 상품3, 운용방식:종금형, 수익률:2.7%, 이체 수수료 혜택:무료, CD/ATM기 수수료 혜택:무료, 이체 수수료 혜택 조건:CMA 주거래계좌 이용 시 온라인 이체 수수료 무료 혜택, CD/ATM기 수수료 혜택:CMA 주거래계좌 이용 시 전금융기관 CD, ATM기 이체출금 수수료 무료 혜택\n",
      "메타데이터: {'source': './data/CMA_list.txt', 'line_number': 3}\n",
      "--------------------------------------------------\n",
      "문서 4:\n",
      "내용: 회사:미래에셋증권, 이름:미래에셋 CMA 상품4, 운용방식:RP형, 수익률:2.4%, 이체 수수료 혜택:무료, CD/ATM기 수수료 혜택:무료, 이체 수수료 혜택 조건:당사 IC 체크카드 또는 신용카드 결제사용 고객은 전월 20만원 이상 사용시 온라인 이체수수료가 무료 적용됩니다., CD/ATM기 수수료 혜택:CMA 주거래계좌 이용 시 전금융기관 CD, ATM기 이체출금 수수료 무료 혜택\n",
      "메타데이터: {'source': './data/CMA_list.txt', 'line_number': 4}\n",
      "--------------------------------------------------\n",
      "문서 5:\n",
      "내용: 회사:NH투자증권, 이름:NH CMA 상품5, 운용방식:발행어음형, 수익률:2.6%, 이체 수수료 혜택:무료, CD/ATM기 수수료 혜택:무료, 이체 수수료 혜택 조건:CMA 주거래계좌 이용 시 온라인 이체 수수료 무료 혜택, CD/ATM기 수수료 혜택:CMA 주거래계좌 이용 시 전금융기관 CD, ATM기 이체출금 수수료 무료 혜택\n",
      "메타데이터: {'source': './data/CMA_list.txt', 'line_number': 5}\n",
      "--------------------------------------------------\n",
      "총 70개의 문서로 로드되었습니다.\n",
      "문서 1:\n",
      "내용: 운용회사: ABC Asset Management, 펀드명: ABC Global Equity Fund, 위험등급: 4, 순자산총액: 1200000000, 주식비중(%): 75, 채권비중(%): 20, 1개월 수익률: 2.3, 6개월 수익률: 8.5, 1년 수익률: 12.4, 2년 수익률: 24.7, 운용보수(%): 1.2\n",
      "메타데이터: {'source': './data/fund_list.txt', 'line_number': 1}\n",
      "--------------------------------------------------\n",
      "문서 2:\n",
      "내용: 운용회사: XYZ Capital, 펀드명: XYZ Balanced Fund, 위험등급: 3, 순자산총액: 900000000, 주식비중(%): 50, 채권비중(%): 45, 1개월 수익률: 1.5, 6개월 수익률: 5.4, 1년 수익률: 8.7, 2년 수익률: 15.2, 운용보수(%): 0.8\n",
      "메타데이터: {'source': './data/fund_list.txt', 'line_number': 2}\n",
      "--------------------------------------------------\n",
      "문서 3:\n",
      "내용: 운용회사: DEF Investments, 펀드명: DEF Growth Fund, 위험등급: 5, 순자산총액: 1500000000, 주식비중(%): 85, 채권비중(%): 10, 1개월 수익률: 3.1, 6개월 수익률: 10.2, 1년 수익률: 18.3, 2년 수익률: 30.5, 운용보수(%): 1.5\n",
      "메타데이터: {'source': './data/fund_list.txt', 'line_number': 3}\n",
      "--------------------------------------------------\n",
      "문서 4:\n",
      "내용: 운용회사: QRS Fund Management, 펀드명: QRS Income Fund, 위험등급: 2, 순자산총액: 600000000, 주식비중(%): 30, 채권비중(%): 65, 1개월 수익률: 0.8, 6개월 수익률: 2.9, 1년 수익률: 4.5, 2년 수익률: 7.8, 운용보수(%): 0.6\n",
      "메타데이터: {'source': './data/fund_list.txt', 'line_number': 4}\n",
      "--------------------------------------------------\n",
      "문서 5:\n",
      "내용: 운용회사: LMN Financial, 펀드명: LMN Strategic Fund, 위험등급: 4, 순자산총액: 1100000000, 주식비중(%): 70, 채권비중(%): 25, 1개월 수익률: 2.5, 6개월 수익률: 7.7, 1년 수익률: 11.9, 2년 수익률: 21.4, 운용보수(%): 1.1\n",
      "메타데이터: {'source': './data/fund_list.txt', 'line_number': 5}\n",
      "--------------------------------------------------\n"
     ]
    }
   ],
   "source": [
    "texts = load_text_as_documents(\"./data/saving_list.txt\") + load_text_as_documents(\"./data/deposit_list.txt\") + load_text_as_documents(\"./data/CMA_list.txt\") + load_text_as_documents(\"./data/fund_list.txt\")"
   ]
  },
  {
   "cell_type": "code",
   "execution_count": 5,
   "metadata": {},
   "outputs": [
    {
     "data": {
      "text/plain": [
       "270"
      ]
     },
     "execution_count": 5,
     "metadata": {},
     "output_type": "execute_result"
    }
   ],
   "source": [
    "len(texts)"
   ]
  },
  {
   "cell_type": "code",
   "execution_count": 7,
   "metadata": {},
   "outputs": [],
   "source": [
    "#loader = TextLoader(\"./data/적금 리스트.txt\", encoding='utf-8')\n",
    "#documents = loader.load()\n",
    "#text_splitter = RecursiveCharacterTextSplitter()\n",
    "#texts = text_splitter.split_documents(documents)"
   ]
  },
  {
   "cell_type": "code",
   "execution_count": 8,
   "metadata": {},
   "outputs": [],
   "source": [
    "#len(texts)"
   ]
  },
  {
   "cell_type": "code",
   "execution_count": 7,
   "metadata": {},
   "outputs": [
    {
     "data": {
      "text/plain": [
       "Document(metadata={'source': './data/CMA_list.txt', 'line_number': 21}, page_content='회사:KB증권, 이름:KB CMA 상품21, 운용방식:종금형, 수익률:2.5%, 이체 수수료 혜택:무료, CD/ATM기 수수료 혜택:무료, 이체 수수료 혜택 조건:CMA 주거래계좌 이용 시 온라인 이체 수수료 무료 혜택, CD/ATM기 수수료 혜택:CMA 주거래계좌 이용 시 전금융기관 CD, ATM기 이체출금 수수료 무료 혜택')"
      ]
     },
     "execution_count": 7,
     "metadata": {},
     "output_type": "execute_result"
    }
   ],
   "source": [
    "texts[120]"
   ]
  },
  {
   "cell_type": "code",
   "execution_count": 8,
   "metadata": {},
   "outputs": [
    {
     "name": "stderr",
     "output_type": "stream",
     "text": [
      "c:\\Users\\Jonnior_P\\IBM_AI_Hackathon\\gust-ibm-ai-hackathon\\final_porj\\lib\\site-packages\\sentence_transformers\\cross_encoder\\CrossEncoder.py:11: TqdmWarning: IProgress not found. Please update jupyter and ipywidgets. See https://ipywidgets.readthedocs.io/en/stable/user_install.html\n",
      "  from tqdm.autonotebook import tqdm, trange\n"
     ]
    }
   ],
   "source": [
    "from langchain_huggingface import HuggingFaceEmbeddings\n",
    "\n",
    "embeddings = HuggingFaceEmbeddings(\n",
    "    model_name=\"snunlp/KR-SBERT-V40K-klueNLI-augSTS\",       # 한국어 특화 임베딩 모델\n",
    ")"
   ]
  },
  {
   "cell_type": "code",
   "execution_count": 9,
   "metadata": {},
   "outputs": [],
   "source": [
    "DB_PATH = \"./chroma_db\"\n",
    "docsearch = Chroma.from_documents(texts, embeddings,\n",
    "                                  persist_directory=DB_PATH, \n",
    "                                  collection_name=\"investment_products_db\")"
   ]
  },
  {
   "cell_type": "code",
   "execution_count": 12,
   "metadata": {},
   "outputs": [
    {
     "data": {
      "text/plain": [
       "True"
      ]
     },
     "execution_count": 12,
     "metadata": {},
     "output_type": "execute_result"
    }
   ],
   "source": [
    "load_dotenv()"
   ]
  },
  {
   "cell_type": "code",
   "execution_count": 13,
   "metadata": {},
   "outputs": [],
   "source": [
    "# IBM Cloud 상의 watsonx SAS url은 provision된 region별로 정해져 있음. https://cloud.ibm.com/apidocs/watsonx-ai 참조.\n",
    "project_id = os.getenv(\"PROJECT_ID\", None)\n",
    "wml_credentials = {\n",
    "    \"apikey\": os.getenv(\"API_KEY\", None),\n",
    "    \"url\": 'https://us-south.ml.cloud.ibm.com'\n",
    "}"
   ]
  },
  {
   "cell_type": "code",
   "execution_count": 14,
   "metadata": {},
   "outputs": [
    {
     "name": "stderr",
     "output_type": "stream",
     "text": [
      "C:\\Users\\Jonnior_P\\AppData\\Local\\Temp\\ipykernel_31572\\2514157292.py:9: LangChainDeprecationWarning: The class `WatsonxLLM` was deprecated in LangChain 0.0.18 and will be removed in 0.3. An updated version of the class exists in the langchain-ibm package and should be used instead. To use it run `pip install -U langchain-ibm` and import as `from langchain_ibm import WatsonxLLM`.\n",
      "  watsonx_llama2_korean = WatsonxLLM(\n"
     ]
    }
   ],
   "source": [
    "parameters = {\n",
    "    GenParams.DECODING_METHOD: DecodingMethods.GREEDY.value,\n",
    "    GenParams.MIN_NEW_TOKENS: 1,\n",
    "    GenParams.MAX_NEW_TOKENS: 3000,\n",
    "    GenParams.STOP_SEQUENCES: [\"<|endoftext|>\"]\n",
    "}\n",
    "\n",
    "model_id =  'mistralai/mistral-large' # 'meta-llama/llama-3-1-70b-instruct' # ModelTypes.LLAMA_2_70B_CHAT.value #\n",
    "watsonx_llama2_korean = WatsonxLLM(\n",
    "    model_id=model_id,\n",
    "    url=wml_credentials.get(\"url\"),\n",
    "    apikey=wml_credentials.get(\"apikey\"),\n",
    "    project_id=project_id,\n",
    "    params=parameters\n",
    ")"
   ]
  },
  {
   "cell_type": "code",
   "execution_count": 15,
   "metadata": {},
   "outputs": [],
   "source": [
    "retriever = docsearch.as_retriever(search_kwargs={'k': 5})"
   ]
  },
  {
   "cell_type": "code",
   "execution_count": 19,
   "metadata": {},
   "outputs": [],
   "source": [
    "# prompt 작성\n",
    "prompt = PromptTemplate.from_template(\n",
    "   \"\"\"당신은 전문적인 금융상품 추천 가이드입니다. 사용자의 저축 계획과 투자 계획을 분석하여, 제공된 상품 정보(Context) 중에서 가장 적합한 상품들을 추천해야 합니다.\n",
    "\n",
    "사용자 정보 및 계획:\n",
    "{user_input}\n",
    "\n",
    "고려사항:\n",
    "1. 사용자의 나이\n",
    "2. 저축 기간\n",
    "3. 월 저축액\n",
    "4. 목표 금리\n",
    "5. 투자 성향 (원금 손실 가능성에 대한 태도)\n",
    "6. 총 투자 가능 금액\n",
    "\n",
    "추천 지침:\n",
    "1. 사용자의 정보가 join_member에 맞지 않는 적금 상품을 추천하면 안됩니다.\n",
    "2. 사용자의 저축 계획에 맞는 저축 상품을 추천하세요. 금리, 저축 기간, 월 저축액, max_limit을 고려하세요.\n",
    "3. 사용자의 투자 계획에 맞는 투자 상품을 추천하세요. 수익률, 기간, 원금, 주식비중(%), 위험등급 을 고려하세요.\n",
    "4. 추천 투자 상품에 대한 위험성에 따라 경고해주세요\n",
    "5. 사용자의 나이에 맞는 우대 조건이 있는 적금 상품이면 좋아요\n",
    "6. 추천한 상품이 진짜 최선의 선택인지 고려하세요.\n",
    "7. 각 추천 상품에 대해 왜 이 상품이 사용자에게 적합한지 간단히 설명하세요.\n",
    "8. 우대 조건에 대해 간단히 설명하세요.\n",
    "9. 추천된 상품들의 예상 수익을 계산하여 제시하세요.\n",
    "10. 사용자의 계획과 추천 상품 사이에 차이가 있다면 이를 얘기하고 조언을 제공하세요.\n",
    "\n",
    "Context (사용 가능한 금융 상품 정보):\n",
    "{context}\n",
    "\n",
    "추천 및 분석:\n",
    "\"\"\"\n",
    ")\n",
    "\n",
    "# chain 생성\n",
    "rag_chain = (\n",
    "    {\"context\": retriever, \"user_input\": RunnablePassthrough()}\n",
    "    | prompt\n",
    "    | watsonx_llama2_korean\n",
    "    | StrOutputParser()\n",
    ")"
   ]
  },
  {
   "cell_type": "code",
   "execution_count": 20,
   "metadata": {},
   "outputs": [],
   "source": [
    "user_input = '''안녕하세요, 30세의 사용자님 \n",
    "1. **저축 계획**:\n",
    "   - 매월 저축액: 월 저축 및 투자 가용금액 150만원의 70%인 105만원을 이자 3.5-4% 적금에 가입합니다.\n",
    "   - 5년후 저축액: 105만원 X 60개월 + 적금이자 = 6300만원 +적금이자\n",
    "\n",
    "2. **투자 계획**:\n",
    "   - 초기 투자금: 원금 손실의 가능성이 없기 때문에 원금 모두\n",
    "   - 투자 방법: 정기예금 및 CMA혼합 포트폴리오를 구성합니다. 정기예금 50%, CMA 50%로 분산 투자합니다.\n",
    "   - 예상 수익률: 연평균 3.5% 가정\n",
    "     - 근거: CMA평균 수익률 3.5%, 정기예금 최고 금리 평균 연 3.76%\n",
    "   - 5년 후 예상 총 수익금(원금+수익): 원금 1000만원 + 수익(5 X 1000만원 X 0.035=175만원) = 약 1175만원\n",
    "'''\n",
    "response = rag_chain.invoke(user_input)"
   ]
  },
  {
   "cell_type": "code",
   "execution_count": 21,
   "metadata": {},
   "outputs": [
    {
     "name": "stdout",
     "output_type": "stream",
     "text": [
      "\n",
      "### 저축 계획 추천 상품\n",
      "\n",
      "1. **아이엠뱅크 - 내손안에 적금**\n",
      "   - **금리**: 최고우대금리 연 0.55%\n",
      "   - **저축 기간**: 사용자의 저축 기간에 맞춤\n",
      "   - **월 저축액**: 105만원 (사용자의 저축 계획에 맞춤)\n",
      "   - **max_limit**: 100만원 (사용자의 저축 계획에 맞춤)\n",
      "   - **우대 조건**:\n",
      "     - 인터넷/모바일뱅킹을 통한 최초 가입: 연 0.20%p\n",
      "     - 최근 3개월 이내 인터넷/모바일뱅킹을 통한 이체거래 3회 이상: 연 0.10%p\n",
      "     - 수수료우대 통장 보유 고객: 연 0.20%p\n",
      "     - 모바일뱅킹을 통한 가입: 연 0.05%p\n",
      "\n",
      "   **왜 이 상품이 적합한가?**\n",
      "   - 사용자의 저축 계획에 맞는 금리와 저축 기간을 제공합니다.\n",
      "   - 다양한 우대 조건을 통해 최고우대금리를 받을 수 있습니다.\n",
      "\n",
      "   **예상 수익**:\n",
      "   - 5년 후 예상 수익: 105만원 X 60개월 + 적금이자 = 6300만원 + 적금이자\n",
      "   - 적금이자: 6300만원 X 0.0055 = 346,500원\n",
      "   - 총 예상 수익: 6300만원 + 346,500원 = 6334만 6,500원\n",
      "\n",
      "### 투자 계획 추천 상품\n",
      "\n",
      "1. **아이엠뱅크 - iM함께예금**\n",
      "   - **금리**: 최고우대금리 연 0.45%\n",
      "   - **투자 기간**: 5년\n",
      "   - **투자 금액**: 500만원 (정기예금 50%)\n",
      "   - **우대 조건**:\n",
      "     - 전월 총 수신 평잔실적 또는 상품 가입 전 첫만남플러스 통장 보유: 연 0.10%p\n",
      "     - 당행 주택청약상품 보유: 연 0.10%p\n",
      "     - 신규일 \"iM함께적금\" 동시 가입 및 만기 보유: 연 0.10%p\n",
      "     - 당행 오픈뱅킹서비스에 다른 은행 계좌 등록: 연 0.10%p\n",
      "     - 인터넷/모바일뱅킹을 통한 가입: 연 0.05%p\n",
      "\n",
      "   **왜 이 상품이 적합한가?**\n",
      "   - 사용자의 투자 계획에 맞는 금리와 투자 기간을 제공합니다.\n",
      "   - 다양한 우대 조건을 통해 최고우대금리를 받을 수 있습니다.\n",
      "\n",
      "   **예상 수익**:\n",
      "   - 5년 후 예상 수익: 500만원 X (1 + 0.0045)^5 = 500만원 X 1.0227 = 511만 3,500원\n",
      "\n",
      "2. **LMN Financial - LMN Strategic Fund**\n",
      "   - **위험등급**: 4\n",
      "   - **주식비중**: 70%\n",
      "   - **채권비중**: 25%\n",
      "   - **1년 수익률**: 11.9%\n",
      "   - **2년 수익률**: 21.4%\n",
      "   - **운용보수**: 1.1%\n",
      "\n",
      "   **왜 이 상품이 적합한가?**\n",
      "   - 사용자의 투자 계획에 맞는 수익률을 제공합니다.\n",
      "   - 주식비중이 높아 높은 수익을 기대할 수 있습니다.\n",
      "\n",
      "   **예상 수익**:\n",
      "   - 5년 후 예상 수익: 500만원 X (1 + 0.119)^5 = 500만원 X 1.728 = 864만원\n",
      "\n",
      "### 추천 상품 총 예상 수익\n",
      "\n",
      "- **저축 계획**: 6334만 6,500원\n",
      "- **투자 계획**:\n",
      "  - 정기예금: 511만 3,500원\n",
      "  - CMA: 864만원\n",
      "  - 총 투자 수익: 511만 3,500원 + 864만원 = 1375만 3,500원\n",
      "\n",
      "### 사용자의 계획과 추천 상품 사이의 차이 및 조언\n",
      "\n",
      "- **저축 계획**: 사용자의 목표 금리는 3.5-4%였지만, 추천된 적금 상품의 금리는 0.55%로 낮습니다. 따라서 다른 고금리 적금 상품을 추가로 검토해보는 것이 좋습니다.\n",
      "- **투자 계획**: 사용자의 목표 수익률은 연평균 3.5%였지만, 추천된 투자 상품의 수익률은 더 높습니다. 특히 LMN Strategic Fund는 높은 수익률을 기대할 수 있지만, 위험등급이 4로 높습니다. 따라서 원금 손실의 가능성을 고려하여 투자 비중을 조정하는 것이 좋습니다.\n",
      "\n",
      "### 경고\n",
      "\n",
      "- **LMN Strategic Fund**: 위험등급이 4로 높습니다. 주식비중이 70%로 높아 원금 손실의 가능성이 있습니다. 투자 전 충분한 리스크 평가를 하고, 투자 비중을 조정하는 것이 좋습니다.\n",
      "\n",
      "이상으로 사용자의 저축 및 투자 계획에 맞는 금융 상품을 추천드립니다. 추가적인 상담이 필요하시면 언제든지 문의해 주세요.\n"
     ]
    }
   ],
   "source": [
    "print(response)"
   ]
  },
  {
   "cell_type": "code",
   "execution_count": 33,
   "metadata": {},
   "outputs": [
    {
     "name": "stderr",
     "output_type": "stream",
     "text": [
      "C:\\Users\\Jonnior_P\\AppData\\Local\\Temp\\ipykernel_4916\\3075586040.py:2: LangChainDeprecationWarning: The method `BaseRetriever.get_relevant_documents` was deprecated in langchain-core 0.1.46 and will be removed in 1.0. Use invoke instead.\n",
      "  retriever.get_relevant_documents(user_input)\n"
     ]
    },
    {
     "data": {
      "text/plain": [
       "[Document(metadata={'line_number': 4, 'source': './data/적금 리스트.txt'}, page_content='kor_co_nm: 아이엠뱅크 | fin_prdt_nm: 내손안에 적금 | join_way: 스마트폰 | mtrt_int: 만기 후 1개월 미만 경과: 약정이자율 x 50% 만기 후 3개월 미만 경과: 약정이자율 x 25% 만기 후 3개월 이상 경과: 약정이자율 x 10% | spcl_cnd: *최고우대금리 : 연0.55%p -당행 인터넷/모바일뱅킹을 통하여 최초로 적립식예금 가입 시 : 연0.20%p -상품 가입 전 최근 3개월 이내 당행 인터넷/모바일뱅킹을 통한 이체거래 3회 이상 : 연0.10%p -상품 가입 전 수수료우대 통장 보유 고객 : 연0.20%p * 해당 상품을 모바일뱅킹을 통해 가입 : 연0.05%p | join_deny: 1 | join_member: 실명의 개인 | max_limit: 1000000'),\n",
       " Document(metadata={'line_number': 36, 'source': './data/적금 리스트.txt'}, page_content='kor_co_nm: 국민은행 | fin_prdt_nm: KB 특★한 적금 | join_way: 스마트폰 | mtrt_int: - 1개월 이내 : 기본이율 X 50% - 1개월 초과  ~ 3개월 이내 : 기본이율 X 30% - 3개월 초과 : 0.1% | spcl_cnd: 항목별 적용 조건 충족시, 최고 연 4.0%p ① 목표달성 축하 우대이율: 최고 연 1.0%p     50만원 이하: 연 0.5%p, 50만원 초과: 연 1.0%p  ② 별 모으기 우대이율 : 최고 연 1.0%p     10개: 연 0.5%p, 20개: 연 1.0%p ③ 함께해요 우대이율: 최고 연 2.0%p | join_deny: 1 | join_member: 실명의 개인 | max_limit: None'),\n",
       " Document(metadata={'line_number': 20, 'source': './data/적금 리스트.txt'}, page_content='kor_co_nm: 전북은행 | fin_prdt_nm: JB 골든에이지 적금 | join_way: 영업점,스마트폰 | mtrt_int: √만기후 1개월이내 경과분 : 만기일 현재 계약기간별 정기적금(정액적립식) 실행이율의 1/2 √만기후 1개월초과 경과분 : 연 0.1% | spcl_cnd: 우대조건 충족시 최고 연1.2% 이내(단, 우대이율은 만기해지시 제공) 1. 6회이상 급여또는 연금이체 실적 연 0.50% 2. JB카드 사용금액 조건을 충족한 경우 (연0.30% ~ 연0.50%) 3. 신규시 당행 입출금 통장으로 자동해지를 신청한 경우 연 0.20%  ※거래실적 인정기준 세부내용은 홈페이지 참조 | join_deny: 1 | join_member: 실명의 개인 및 개인사업자(1인 1계좌) | max_limit: 500000'),\n",
       " Document(metadata={'line_number': 45, 'source': './data/적금 리스트.txt'}, page_content='kor_co_nm: 하나은행 | fin_prdt_nm: 주거래하나 월복리적금 | join_way: 영업점,인터넷,스마트폰 | mtrt_int: 1개월 이내 : 지급당시 해당기간별 일반정기적금 기본금리 1/2 1개월 초과 : 지급당시 해당기간별 일반정기적금 기본금리 1/4 | spcl_cnd: 최고 연1.0% - 주거래하나우대(연 0.5%) : 적금만기 전전월말기준 본인명의 당행입출금통장을 통해 계약기간 1/2이상 이체된 주거래실적 1종  - 주거래플러스우대(연 0.9%) : 주거래 하나우대와 동일요건의 거래실적 2종이상 경우  - 온라인.재예치우대 연 최대 0.1% | join_deny: 1 | join_member: 실명의 개인 또는 개인사업자 | max_limit: 3000000'),\n",
       " Document(metadata={'line_number': 5, 'source': './data/적금 리스트.txt'}, page_content='kor_co_nm: 아이엠뱅크 | fin_prdt_nm: 영플러스적금 | join_way: 영업점,인터넷,스마트폰 | mtrt_int: 만기 후 1개월 미만 경과: 약정이자율 x 50% 만기 후 3개월 미만 경과: 약정이자율 x 25% 만기 후 3개월 이상 경과: 약정이자율 x 10% | spcl_cnd: *최고우대금리 : 연0.55%p -상품 가입 전 영플러스통장 보유 또는 재예치일 기준 영플러스통장 전월 평잔 10만원 이상 : 연0.10%p -예금기간 중 입금횟수 10회 이상 : 연0.10%p -입학 및 졸업 축하금리 : 연0.30%p * 해당 상품을 인터넷/모바일뱅킹을 통해 가입 : 연0.05%p | join_deny: 3 | join_member: 만 29세 이하 실명의 개인 | max_limit: 500000')]"
      ]
     },
     "execution_count": 33,
     "metadata": {},
     "output_type": "execute_result"
    }
   ],
   "source": [
    "# retriever 테스트\n",
    "retriever.get_relevant_documents(user_input)"
   ]
  },
  {
   "cell_type": "code",
   "execution_count": null,
   "metadata": {},
   "outputs": [],
   "source": []
  }
 ],
 "metadata": {
  "kernelspec": {
   "display_name": "final_porj",
   "language": "python",
   "name": "python3"
  },
  "language_info": {
   "codemirror_mode": {
    "name": "ipython",
    "version": 3
   },
   "file_extension": ".py",
   "mimetype": "text/x-python",
   "name": "python",
   "nbconvert_exporter": "python",
   "pygments_lexer": "ipython3",
   "version": "3.10.11"
  }
 },
 "nbformat": 4,
 "nbformat_minor": 2
}
